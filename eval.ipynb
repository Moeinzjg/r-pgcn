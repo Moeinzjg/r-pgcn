{
 "cells": [
  {
   "cell_type": "code",
   "execution_count": 2,
   "metadata": {
    "ExecuteTime": {
     "end_time": "2021-11-09T16:45:19.314918Z",
     "start_time": "2021-11-09T16:44:35.280764Z"
    }
   },
   "outputs": [
    {
     "name": "stdout",
     "output_type": "stream",
     "text": [
      "cuda: True\n",
      "available GPU(s): 1\n",
      "0: {'name': 'Quadro RTX 6000', 'capability': [7, 5], 'total_momory': 23.65, 'sm_count': 72}\n",
      "\n",
      "device: cuda\n",
      "loading annotations into memory...\n",
      "Done (t=0.06s)\n",
      "creating index...\n",
      "index created!\n",
      "Namespace(ckpt_path='maskrcnn_coco-25.pth', data_dir='../Vegas_coco_random_splits', dataset='coco', iters=3, results='maskrcnn_results.pth', use_cuda=True)\n",
      "\n",
      "evaluating...\n",
      "\n"
     ]
    },
    {
     "name": "stderr",
     "output_type": "stream",
     "text": [
      "/opt/conda/lib/python3.8/site-packages/torch/nn/functional.py:718: UserWarning: Named tensors and all their associated APIs are an experimental feature and subject to change. Please do not use them for anything important until they are released as stable. (Triggered internally at  /pytorch/c10/core/TensorImpl.h:1156.)\n",
      "  return torch.max_pool2d(input, kernel_size, stride, padding, dilation, ceil_mode)\n"
     ]
    },
    {
     "name": "stdout",
     "output_type": "stream",
     "text": [
      "iter: 254.8, total: 160.4, model: 57.8\n",
      "Loading and preparing results...\n",
      "DONE (t=0.00s)\n",
      "creating index...\n",
      "index created!\n",
      "Running per image evaluation...\n",
      "Evaluate annotation type *bbox*\n",
      "DONE (t=0.11s).\n",
      "Accumulating evaluation results...\n",
      "DONE (t=0.01s).\n",
      "Loading and preparing results...\n",
      "DONE (t=0.00s)\n",
      "creating index...\n",
      "index created!\n",
      "Running per image evaluation...\n",
      "Evaluate annotation type *segm*\n",
      "DONE (t=0.11s).\n",
      "Accumulating evaluation results...\n",
      "DONE (t=0.01s).\n",
      "accumulate: 0.2s\n",
      "{'bbox AP': 64.3, 'mask AP': 55.0}\n",
      "\n",
      "Total time of this evaluation: 1.2 s, speed: 3.9 imgs/s\n"
     ]
    }
   ],
   "source": [
    "import argparse\n",
    "import os\n",
    "import time\n",
    "\n",
    "import torch\n",
    "\n",
    "import pytorch_mask_rcnn as pmr\n",
    "    \n",
    "    \n",
    "def main(args):\n",
    "    device = torch.device(\"cuda\" if torch.cuda.is_available() and args.use_cuda else \"cpu\")\n",
    "    cuda = device.type == \"cuda\"\n",
    "    if cuda: pmr.get_gpu_prop(show=True)\n",
    "    print(\"\\ndevice: {}\".format(device))\n",
    "    \n",
    "#     d_test = pmr.datasets(args.dataset, args.data_dir, \"val\", train=True) # VOC 2012. set train=True for eval\n",
    "    d_test = pmr.datasets(args.dataset, args.data_dir, \"test\", train=True) # COCO 2017\n",
    "\n",
    "    print(args)\n",
    "    num_classes = max(d_test.classes) + 1\n",
    "    model = pmr.maskrcnn_resnet50(False, num_classes).to(device)\n",
    "    \n",
    "    checkpoint = torch.load(args.ckpt_path, map_location=device)\n",
    "    model.load_state_dict(checkpoint[\"model\"])\n",
    "    #print(checkpoint[\"eval_info\"])\n",
    "    del checkpoint\n",
    "    if cuda: torch.cuda.empty_cache()\n",
    "\n",
    "    print(\"\\nevaluating...\\n\")\n",
    "    \n",
    "    B = time.time()\n",
    "    eval_output, iter_eval = pmr.evaluate(model, d_test, device, args)\n",
    "    B = time.time() - B\n",
    "    \n",
    "    print(eval_output.get_AP())\n",
    "    if iter_eval is not None:\n",
    "        print(\"\\nTotal time of this evaluation: {:.1f} s, speed: {:.1f} imgs/s\".format(B, 1 / iter_eval))\n",
    "    \n",
    "    \n",
    "if __name__ == \"__main__\":\n",
    "    parser = argparse.ArgumentParser()\n",
    "    parser.add_argument(\"--dataset\", default=\"coco\")\n",
    "    parser.add_argument(\"--data-dir\", default=\"../Vegas_coco_random_splits\")\n",
    "    parser.add_argument(\"--ckpt-path\", default=\"maskrcnn_coco-25.pth\")\n",
    "    parser.add_argument(\"--iters\", type=int, default=3) # number of iterations, minus means the entire dataset\n",
    "    args = parser.parse_args([]) # [] is needed if you're using Jupyter Notebook.\n",
    "    \n",
    "    args.use_cuda = True\n",
    "    args.results = os.path.join(os.path.dirname(args.ckpt_path), \"maskrcnn_results.pth\")\n",
    "    \n",
    "    main(args)\n",
    "    \n",
    "    "
   ]
  },
  {
   "cell_type": "code",
   "execution_count": null,
   "metadata": {},
   "outputs": [],
   "source": []
  }
 ],
 "metadata": {
  "language_info": {},
  "orig_nbformat": 3
 },
 "nbformat": 4,
 "nbformat_minor": 2
}